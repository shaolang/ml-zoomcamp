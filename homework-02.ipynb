{
 "cells": [
  {
   "cell_type": "markdown",
   "id": "6bd054a8",
   "metadata": {},
   "source": [
    "# Homework 2\n",
    "## Dataset\n",
    "\n",
    "In this homework, we will use the New York City Airbnb Open Data. You can take it from Kaggle or download from here if you don't want to sign up to Kaggle.\n",
    "\n",
    "The goal of this homework is to create a regression model for prediction apartment prices (column 'price').\n",
    "\n",
    "## EDA\n",
    "\n",
    "* Load the data.\n",
    "* Look at the price variable. Does it have a long tail?\n",
    "\n",
    "## Features\n",
    "\n",
    "For the rest of the homework, you'll need to use only these columns:\n",
    "\n",
    "* 'latitude',\n",
    "* 'longitude',\n",
    "* 'price',\n",
    "* 'minimum_nights',\n",
    "* 'number_of_reviews',\n",
    "* 'reviews_per_month',\n",
    "* 'calculated_host_listings_count',\n",
    "* 'availability_365'\n",
    "\n",
    "Select only them."
   ]
  },
  {
   "cell_type": "code",
   "execution_count": 1,
   "id": "6507d771",
   "metadata": {},
   "outputs": [
    {
     "data": {
      "text/html": [
       "<div>\n",
       "<style scoped>\n",
       "    .dataframe tbody tr th:only-of-type {\n",
       "        vertical-align: middle;\n",
       "    }\n",
       "\n",
       "    .dataframe tbody tr th {\n",
       "        vertical-align: top;\n",
       "    }\n",
       "\n",
       "    .dataframe thead th {\n",
       "        text-align: right;\n",
       "    }\n",
       "</style>\n",
       "<table border=\"1\" class=\"dataframe\">\n",
       "  <thead>\n",
       "    <tr style=\"text-align: right;\">\n",
       "      <th></th>\n",
       "      <th>latitude</th>\n",
       "      <th>longitude</th>\n",
       "      <th>price</th>\n",
       "      <th>minimum_nights</th>\n",
       "      <th>number_of_reviews</th>\n",
       "      <th>reviews_per_month</th>\n",
       "      <th>calculated_host_listings_count</th>\n",
       "      <th>availability_365</th>\n",
       "    </tr>\n",
       "  </thead>\n",
       "  <tbody>\n",
       "    <tr>\n",
       "      <th>0</th>\n",
       "      <td>40.64749</td>\n",
       "      <td>-73.97237</td>\n",
       "      <td>149</td>\n",
       "      <td>1</td>\n",
       "      <td>9</td>\n",
       "      <td>0.21</td>\n",
       "      <td>6</td>\n",
       "      <td>365</td>\n",
       "    </tr>\n",
       "    <tr>\n",
       "      <th>1</th>\n",
       "      <td>40.75362</td>\n",
       "      <td>-73.98377</td>\n",
       "      <td>225</td>\n",
       "      <td>1</td>\n",
       "      <td>45</td>\n",
       "      <td>0.38</td>\n",
       "      <td>2</td>\n",
       "      <td>355</td>\n",
       "    </tr>\n",
       "    <tr>\n",
       "      <th>2</th>\n",
       "      <td>40.80902</td>\n",
       "      <td>-73.94190</td>\n",
       "      <td>150</td>\n",
       "      <td>3</td>\n",
       "      <td>0</td>\n",
       "      <td>NaN</td>\n",
       "      <td>1</td>\n",
       "      <td>365</td>\n",
       "    </tr>\n",
       "    <tr>\n",
       "      <th>3</th>\n",
       "      <td>40.68514</td>\n",
       "      <td>-73.95976</td>\n",
       "      <td>89</td>\n",
       "      <td>1</td>\n",
       "      <td>270</td>\n",
       "      <td>4.64</td>\n",
       "      <td>1</td>\n",
       "      <td>194</td>\n",
       "    </tr>\n",
       "    <tr>\n",
       "      <th>4</th>\n",
       "      <td>40.79851</td>\n",
       "      <td>-73.94399</td>\n",
       "      <td>80</td>\n",
       "      <td>10</td>\n",
       "      <td>9</td>\n",
       "      <td>0.10</td>\n",
       "      <td>1</td>\n",
       "      <td>0</td>\n",
       "    </tr>\n",
       "    <tr>\n",
       "      <th>...</th>\n",
       "      <td>...</td>\n",
       "      <td>...</td>\n",
       "      <td>...</td>\n",
       "      <td>...</td>\n",
       "      <td>...</td>\n",
       "      <td>...</td>\n",
       "      <td>...</td>\n",
       "      <td>...</td>\n",
       "    </tr>\n",
       "    <tr>\n",
       "      <th>48890</th>\n",
       "      <td>40.67853</td>\n",
       "      <td>-73.94995</td>\n",
       "      <td>70</td>\n",
       "      <td>2</td>\n",
       "      <td>0</td>\n",
       "      <td>NaN</td>\n",
       "      <td>2</td>\n",
       "      <td>9</td>\n",
       "    </tr>\n",
       "    <tr>\n",
       "      <th>48891</th>\n",
       "      <td>40.70184</td>\n",
       "      <td>-73.93317</td>\n",
       "      <td>40</td>\n",
       "      <td>4</td>\n",
       "      <td>0</td>\n",
       "      <td>NaN</td>\n",
       "      <td>2</td>\n",
       "      <td>36</td>\n",
       "    </tr>\n",
       "    <tr>\n",
       "      <th>48892</th>\n",
       "      <td>40.81475</td>\n",
       "      <td>-73.94867</td>\n",
       "      <td>115</td>\n",
       "      <td>10</td>\n",
       "      <td>0</td>\n",
       "      <td>NaN</td>\n",
       "      <td>1</td>\n",
       "      <td>27</td>\n",
       "    </tr>\n",
       "    <tr>\n",
       "      <th>48893</th>\n",
       "      <td>40.75751</td>\n",
       "      <td>-73.99112</td>\n",
       "      <td>55</td>\n",
       "      <td>1</td>\n",
       "      <td>0</td>\n",
       "      <td>NaN</td>\n",
       "      <td>6</td>\n",
       "      <td>2</td>\n",
       "    </tr>\n",
       "    <tr>\n",
       "      <th>48894</th>\n",
       "      <td>40.76404</td>\n",
       "      <td>-73.98933</td>\n",
       "      <td>90</td>\n",
       "      <td>7</td>\n",
       "      <td>0</td>\n",
       "      <td>NaN</td>\n",
       "      <td>1</td>\n",
       "      <td>23</td>\n",
       "    </tr>\n",
       "  </tbody>\n",
       "</table>\n",
       "<p>48895 rows × 8 columns</p>\n",
       "</div>"
      ],
      "text/plain": [
       "       latitude  longitude  price  minimum_nights  number_of_reviews  \\\n",
       "0      40.64749  -73.97237    149               1                  9   \n",
       "1      40.75362  -73.98377    225               1                 45   \n",
       "2      40.80902  -73.94190    150               3                  0   \n",
       "3      40.68514  -73.95976     89               1                270   \n",
       "4      40.79851  -73.94399     80              10                  9   \n",
       "...         ...        ...    ...             ...                ...   \n",
       "48890  40.67853  -73.94995     70               2                  0   \n",
       "48891  40.70184  -73.93317     40               4                  0   \n",
       "48892  40.81475  -73.94867    115              10                  0   \n",
       "48893  40.75751  -73.99112     55               1                  0   \n",
       "48894  40.76404  -73.98933     90               7                  0   \n",
       "\n",
       "       reviews_per_month  calculated_host_listings_count  availability_365  \n",
       "0                   0.21                               6               365  \n",
       "1                   0.38                               2               355  \n",
       "2                    NaN                               1               365  \n",
       "3                   4.64                               1               194  \n",
       "4                   0.10                               1                 0  \n",
       "...                  ...                             ...               ...  \n",
       "48890                NaN                               2                 9  \n",
       "48891                NaN                               2                36  \n",
       "48892                NaN                               1                27  \n",
       "48893                NaN                               6                 2  \n",
       "48894                NaN                               1                23  \n",
       "\n",
       "[48895 rows x 8 columns]"
      ]
     },
     "execution_count": 1,
     "metadata": {},
     "output_type": "execute_result"
    }
   ],
   "source": [
    "import numpy as np\n",
    "import pandas as pd\n",
    "\n",
    "columns = [\n",
    "    'latitude',\n",
    "    'longitude',\n",
    "    'price',\n",
    "    'minimum_nights',\n",
    "    'number_of_reviews',\n",
    "    'reviews_per_month',\n",
    "    'calculated_host_listings_count',\n",
    "    'availability_365'\n",
    "]\n",
    "df = pd.read_csv('AB_NYC_2019.csv')[columns]\n",
    "df"
   ]
  },
  {
   "cell_type": "markdown",
   "id": "7f3711c7",
   "metadata": {},
   "source": [
    "## Question 1\n",
    "Find a feature with missing values. How many missing values does it have?"
   ]
  },
  {
   "cell_type": "code",
   "execution_count": 2,
   "id": "f8559532",
   "metadata": {},
   "outputs": [
    {
     "data": {
      "text/plain": [
       "latitude                              0\n",
       "longitude                             0\n",
       "price                                 0\n",
       "minimum_nights                        0\n",
       "number_of_reviews                     0\n",
       "reviews_per_month                 10052\n",
       "calculated_host_listings_count        0\n",
       "availability_365                      0\n",
       "dtype: int64"
      ]
     },
     "execution_count": 2,
     "metadata": {},
     "output_type": "execute_result"
    }
   ],
   "source": [
    "df.isnull().sum()"
   ]
  },
  {
   "cell_type": "markdown",
   "id": "8faa38d7",
   "metadata": {},
   "source": [
    "## Question 2\n",
    "\n",
    "What's the median (50% percentile) for variable 'minimum_nights'?"
   ]
  },
  {
   "cell_type": "code",
   "execution_count": 3,
   "id": "2a683817",
   "metadata": {},
   "outputs": [
    {
     "data": {
      "text/plain": [
       "3.0"
      ]
     },
     "execution_count": 3,
     "metadata": {},
     "output_type": "execute_result"
    }
   ],
   "source": [
    "df.minimum_nights.median()"
   ]
  },
  {
   "cell_type": "markdown",
   "id": "319037cb",
   "metadata": {},
   "source": [
    "## Split the data\n",
    "\n",
    "* Shuffle the initial dataset, use seed 42.\n",
    "* Split your data in train/val/test sets, with 60%/20%/20% distribution.\n",
    "* Make sure that the target value ('price') is not in your dataframe.\n",
    "* Apply the log transformation to the price variable using the np.log1p() function."
   ]
  },
  {
   "cell_type": "code",
   "execution_count": 4,
   "id": "715d7477",
   "metadata": {},
   "outputs": [
    {
     "data": {
      "text/plain": [
       "array([  879, 44383, 15394, ..., 38158,   860, 15795], dtype=int64)"
      ]
     },
     "execution_count": 4,
     "metadata": {},
     "output_type": "execute_result"
    }
   ],
   "source": [
    "np.random.seed(42)\n",
    "idx = df.index.to_numpy()\n",
    "np.random.shuffle(idx)\n",
    "idx"
   ]
  }
 ],
 "metadata": {
  "kernelspec": {
   "display_name": "Python 3 (ipykernel)",
   "language": "python",
   "name": "python3"
  },
  "language_info": {
   "codemirror_mode": {
    "name": "ipython",
    "version": 3
   },
   "file_extension": ".py",
   "mimetype": "text/x-python",
   "name": "python",
   "nbconvert_exporter": "python",
   "pygments_lexer": "ipython3",
   "version": "3.9.6"
  }
 },
 "nbformat": 4,
 "nbformat_minor": 5
}

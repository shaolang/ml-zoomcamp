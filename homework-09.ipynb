{
 "cells": [
  {
   "cell_type": "markdown",
   "id": "45acb37f",
   "metadata": {},
   "source": [
    "# Homework 9\n",
    "\n",
    "In this homework, we'll deploy the dogs vs cats model we trained in the previous homework.\n",
    "\n",
    "Download the model from here:\n",
    "\n",
    "https://github.com/alexeygrigorev/large-datasets/releases/download/dogs-cats-model/dogs_cats_10_0.687.h5\n",
    "\n",
    "## Question 1\n",
    "\n",
    "Now convert this model from Keras to TF-Lite format.\n",
    "\n",
    "What's the size of the converted model?"
   ]
  },
  {
   "cell_type": "code",
   "execution_count": 1,
   "id": "4a65ca4b",
   "metadata": {},
   "outputs": [
    {
     "name": "stdout",
     "output_type": "stream",
     "text": [
      "INFO:tensorflow:Assets written to: g:\\cache\\tmpdir\\tmpv2epapt1\\assets\n"
     ]
    },
    {
     "name": "stderr",
     "output_type": "stream",
     "text": [
      "WARNING:absl:Buffer deduplication procedure will be skipped when flatbuffer library is not properly loaded\n"
     ]
    },
    {
     "name": "stdout",
     "output_type": "stream",
     "text": [
      "File size: 43MB\n"
     ]
    }
   ],
   "source": [
    "import os\n",
    "import tensorflow as tf\n",
    "\n",
    "model = tf.keras.models.load_model('dogs_cats_10_0.687.h5')\n",
    "converter = tf.lite.TFLiteConverter.from_keras_model(model)\n",
    "tflite_model = converter.convert()\n",
    "fout_name = 'dogs_cats_10_0.687.tflite' \n",
    "\n",
    "with open(fout_name, 'wb') as fout:\n",
    "    fout.write(tflite_model)\n",
    "    \n",
    "print(f'File size: {os.path.getsize(fout_name) / 1024**2:.0f}MB')"
   ]
  },
  {
   "cell_type": "markdown",
   "id": "e749e71e",
   "metadata": {},
   "source": [
    "## Question 2\n",
    "\n",
    "To be able to use this model, we need to know the index of the input and the index of the output.\n",
    "\n",
    "What's the output index for this model?"
   ]
  },
  {
   "cell_type": "code",
   "execution_count": 2,
   "id": "c1b016a2",
   "metadata": {},
   "outputs": [
    {
     "data": {
      "text/plain": [
       "13"
      ]
     },
     "execution_count": 2,
     "metadata": {},
     "output_type": "execute_result"
    }
   ],
   "source": [
    "interpreter = tf.lite.Interpreter(model_content=tflite_model)\n",
    "interpreter.get_output_details()[0]['index']"
   ]
  },
  {
   "cell_type": "markdown",
   "id": "69e4e791",
   "metadata": {},
   "source": [
    "## Preparing the image\n",
    "\n",
    "You'll need some code for downloading and resizing images. You can use this code:\n",
    "\n",
    "```python\n",
    "from io import BytesIO\n",
    "from urllib import request\n",
    "\n",
    "from PIL import Image\n",
    "\n",
    "def download_image(url):\n",
    "    with request.urlopen(url) as resp:\n",
    "        buffer = resp.read()\n",
    "    stream = BytesIO(buffer)\n",
    "    img = Image.open(stream)\n",
    "    return img\n",
    "\n",
    "\n",
    "def prepare_image(img, target_size):\n",
    "    if img.mode != 'RGB':\n",
    "        img = img.convert('RGB')\n",
    "    img = img.resize(target_size, Image.NEAREST)\n",
    "    return img\n",
    "```\n",
    "\n",
    "For that, you'll need to have pillow installed:\n",
    "\n",
    "```\n",
    "pip install pillow\n",
    "```\n",
    "\n",
    "Let's download and resize this image:\n",
    "\n",
    "https://upload.wikimedia.org/wikipedia/commons/9/9a/Pug_600.jpg\n",
    "\n",
    "Based on the solution of the previous homework, what should be the target size for the image?"
   ]
  },
  {
   "cell_type": "code",
   "execution_count": 3,
   "id": "fb68d370",
   "metadata": {},
   "outputs": [
    {
     "data": {
      "text/plain": [
       "(150, 150, 3)"
      ]
     },
     "execution_count": 3,
     "metadata": {},
     "output_type": "execute_result"
    }
   ],
   "source": [
    "input_shape = tuple(interpreter.get_input_details()[0]['shape'][1:])\n",
    "input_shape"
   ]
  },
  {
   "cell_type": "markdown",
   "id": "578b5dd6",
   "metadata": {},
   "source": [
    "## Question 3\n",
    "\n",
    "Now we need to turn the image into an numpy array and pre-process it.\n",
    "\n",
    "> Tip: Check the previous homework. What was the pre-processing we did there?\n",
    "\n",
    "After the pre-processing, what's the value in the first pixel, the R channel?"
   ]
  },
  {
   "cell_type": "code",
   "execution_count": 4,
   "id": "ea197095",
   "metadata": {},
   "outputs": [
    {
     "data": {
      "text/plain": [
       "0.7058824"
      ]
     },
     "execution_count": 4,
     "metadata": {},
     "output_type": "execute_result"
    }
   ],
   "source": [
    "from io import BytesIO\n",
    "from urllib import request\n",
    "\n",
    "from PIL import Image\n",
    "\n",
    "import numpy as np\n",
    "\n",
    "def download_image(url):\n",
    "    with request.urlopen(url) as resp:\n",
    "        buffer = resp.read()\n",
    "    stream = BytesIO(buffer)\n",
    "    img = Image.open(stream)\n",
    "    return img\n",
    "\n",
    "\n",
    "def prepare_image(img, target_size):\n",
    "    if img.mode != 'RGB':\n",
    "        img = img.convert('RGB')\n",
    "    img = img.resize(target_size, Image.NEAREST)\n",
    "    return img\n",
    "\n",
    "url = 'https://upload.wikimedia.org/wikipedia/commons/9/9a/Pug_600.jpg'\n",
    "img = prepare_image(download_image(url), input_shape[:2])\n",
    "img_array = np.asarray(img).astype(np.float32) / 255\n",
    "\n",
    "img_array[0][0][0].round(7)"
   ]
  },
  {
   "cell_type": "markdown",
   "id": "a42b647d",
   "metadata": {},
   "source": [
    "## Question 4\n",
    "\n",
    "Now let's apply this model to this image. What's the output of the model?"
   ]
  },
  {
   "cell_type": "code",
   "execution_count": 5,
   "id": "96a097e0",
   "metadata": {},
   "outputs": [
    {
     "data": {
      "text/plain": [
       "0.7699092"
      ]
     },
     "execution_count": 5,
     "metadata": {},
     "output_type": "execute_result"
    }
   ],
   "source": [
    "interpreter.allocate_tensors()\n",
    "input_index = interpreter.get_input_details()[0]['index']\n",
    "output_index = interpreter.get_output_details()[0]['index']\n",
    "\n",
    "interpreter.set_tensor(input_index, [img_array])\n",
    "interpreter.invoke()\n",
    "\n",
    "prediction = interpreter.get_tensor(output_index)\n",
    "prediction[0][0].round(7)"
   ]
  },
  {
   "cell_type": "markdown",
   "id": "95e768ad",
   "metadata": {},
   "source": [
    "## Prepepare the lambda code\n",
    "\n",
    "Now you need to copy all the code into a separate python file. You will need to use this file for the next two questions.\n",
    "\n",
    "Tip: you can test this file locally with `ipython` or Jupyter Notebook by importing the file and invoking the function from this file.\n",
    "Docker\n",
    "\n",
    "For the next two questions, we'll use a Docker image that I already prepared. This is the Dockerfile that I used for creating the image:\n",
    "\n",
    "```docker\n",
    "FROM public.ecr.aws/lambda/python:3.8\n",
    "COPY cats-dogs-v2.tflite .\n",
    "```\n",
    "\n",
    "And pushed it to agrigorev/zoomcamp-cats-dogs-lambda:v2.\n",
    "\n",
    "> Note: The image already contains a model and it's not the same model as the one we used for questions 1-4.\n",
    "\n",
    "## Question 5\n",
    "\n",
    "Now let's extend this docker image, install all the required libraries and add the code for lambda.\n",
    "\n",
    "You don't need to include the model in the image. It's already included. The name of the file with the model is cats-dogs-v2.tflite and it's in the current workdir in the image (see the Dockerfile above for the reference).\n",
    "\n",
    "What's the image id of the base image?\n",
    "\n",
    "In the build logs (on Linux), you'll see a log like that:\n",
    "\n",
    "```\n",
    "$ docker some-command-for-building\n",
    "Sending build context to Docker daemon  2.048kB\n",
    "Step 1/N : FROM agrigorev/zoomcamp-cats-dogs-lambda:v2\n",
    " ---> XXXXXXXXXXXX\n",
    "Step 2/N : ....\n",
    "```\n",
    "\n",
    "You need to get this `XXXXXXXXXXXX`.\n",
    "\n",
    "On MacOS and Windows, the logs for `docker build` are different. To get the image id there, you can use `docker image ls -a`."
   ]
  },
  {
   "cell_type": "code",
   "execution_count": 6,
   "id": "85901e99",
   "metadata": {},
   "outputs": [
    {
     "name": "stdout",
     "output_type": "stream",
     "text": [
      "REPOSITORY                            TAG       IMAGE ID       CREATED          SIZE\n",
      "zoomcamp-cats-dogs-lambda             v2        030e6069d9fa   18 minutes ago   702MB\n",
      "agrigorev/zoomcamp-cats-dogs-lambda   v2        322fc756f258   3 days ago       608MB\n"
     ]
    }
   ],
   "source": [
    "!docker image ls -a"
   ]
  },
  {
   "cell_type": "markdown",
   "id": "67761bf8",
   "metadata": {},
   "source": [
    "## Question 6\n",
    "\n",
    "Now run the container locally.\n",
    "\n",
    "Score this image: https://upload.wikimedia.org/wikipedia/commons/1/18/Vombatus_ursinus_-Maria_Island_National_Park.jpg\n",
    "\n",
    "What's the output from the model?"
   ]
  },
  {
   "cell_type": "code",
   "execution_count": 7,
   "id": "18c53289",
   "metadata": {},
   "outputs": [
    {
     "name": "stdout",
     "output_type": "stream",
     "text": [
      "[0.54134727]\n"
     ]
    }
   ],
   "source": [
    "!docker run zoomcamp-cats-dogs-lambda:v2"
   ]
  }
 ],
 "metadata": {
  "kernelspec": {
   "display_name": "Python 3 (ipykernel)",
   "language": "python",
   "name": "python3"
  },
  "language_info": {
   "codemirror_mode": {
    "name": "ipython",
    "version": 3
   },
   "file_extension": ".py",
   "mimetype": "text/x-python",
   "name": "python",
   "nbconvert_exporter": "python",
   "pygments_lexer": "ipython3",
   "version": "3.9.8"
  }
 },
 "nbformat": 4,
 "nbformat_minor": 5
}

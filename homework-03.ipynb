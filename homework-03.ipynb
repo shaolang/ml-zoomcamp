{
 "cells": [
  {
   "cell_type": "markdown",
   "id": "765f9c48",
   "metadata": {},
   "source": [
    "# Homework\n",
    "## Dataset\n",
    "In this homework, we will continue the New York City Airbnb Open Data.\n",
    "\n",
    "We'll keep working with the `price` variable, and we'll transform it to a classification task.\n",
    "\n",
    "## Features\n",
    "For the rest of the homework, you'll need to use the features from the previous homework with additional two `neighbourhood_group` and `room_type`. So the whole feature set will be set as follows:\n",
    "\n",
    "* `neighbourhood_group`,\n",
    "* `room_type`,\n",
    "* `latitude`,\n",
    "* `longitude`,\n",
    "* `price`,\n",
    "* `minimum_nights`,\n",
    "* `number_of_reviews`,\n",
    "* `reviews_per_month`,\n",
    "* `calculated_host_listings_count`,\n",
    "* `availability_365`\n",
    "\n",
    "Select only them and fill in the missing values with 0."
   ]
  },
  {
   "cell_type": "code",
   "execution_count": 1,
   "id": "17f94093",
   "metadata": {},
   "outputs": [
    {
     "data": {
      "text/html": [
       "<div>\n",
       "<style scoped>\n",
       "    .dataframe tbody tr th:only-of-type {\n",
       "        vertical-align: middle;\n",
       "    }\n",
       "\n",
       "    .dataframe tbody tr th {\n",
       "        vertical-align: top;\n",
       "    }\n",
       "\n",
       "    .dataframe thead th {\n",
       "        text-align: right;\n",
       "    }\n",
       "</style>\n",
       "<table border=\"1\" class=\"dataframe\">\n",
       "  <thead>\n",
       "    <tr style=\"text-align: right;\">\n",
       "      <th></th>\n",
       "      <th>neighbourhood_group</th>\n",
       "      <th>room_type</th>\n",
       "      <th>latitude</th>\n",
       "      <th>longitude</th>\n",
       "      <th>price</th>\n",
       "      <th>minimum_nights</th>\n",
       "      <th>number_of_reviews</th>\n",
       "      <th>reviews_per_month</th>\n",
       "      <th>calculated_host_listings_count</th>\n",
       "      <th>availability_365</th>\n",
       "    </tr>\n",
       "  </thead>\n",
       "  <tbody>\n",
       "    <tr>\n",
       "      <th>0</th>\n",
       "      <td>Brooklyn</td>\n",
       "      <td>Private room</td>\n",
       "      <td>40.64749</td>\n",
       "      <td>-73.97237</td>\n",
       "      <td>149</td>\n",
       "      <td>1</td>\n",
       "      <td>9</td>\n",
       "      <td>0.21</td>\n",
       "      <td>6</td>\n",
       "      <td>365</td>\n",
       "    </tr>\n",
       "    <tr>\n",
       "      <th>1</th>\n",
       "      <td>Manhattan</td>\n",
       "      <td>Entire home/apt</td>\n",
       "      <td>40.75362</td>\n",
       "      <td>-73.98377</td>\n",
       "      <td>225</td>\n",
       "      <td>1</td>\n",
       "      <td>45</td>\n",
       "      <td>0.38</td>\n",
       "      <td>2</td>\n",
       "      <td>355</td>\n",
       "    </tr>\n",
       "    <tr>\n",
       "      <th>2</th>\n",
       "      <td>Manhattan</td>\n",
       "      <td>Private room</td>\n",
       "      <td>40.80902</td>\n",
       "      <td>-73.94190</td>\n",
       "      <td>150</td>\n",
       "      <td>3</td>\n",
       "      <td>0</td>\n",
       "      <td>0.00</td>\n",
       "      <td>1</td>\n",
       "      <td>365</td>\n",
       "    </tr>\n",
       "    <tr>\n",
       "      <th>3</th>\n",
       "      <td>Brooklyn</td>\n",
       "      <td>Entire home/apt</td>\n",
       "      <td>40.68514</td>\n",
       "      <td>-73.95976</td>\n",
       "      <td>89</td>\n",
       "      <td>1</td>\n",
       "      <td>270</td>\n",
       "      <td>4.64</td>\n",
       "      <td>1</td>\n",
       "      <td>194</td>\n",
       "    </tr>\n",
       "    <tr>\n",
       "      <th>4</th>\n",
       "      <td>Manhattan</td>\n",
       "      <td>Entire home/apt</td>\n",
       "      <td>40.79851</td>\n",
       "      <td>-73.94399</td>\n",
       "      <td>80</td>\n",
       "      <td>10</td>\n",
       "      <td>9</td>\n",
       "      <td>0.10</td>\n",
       "      <td>1</td>\n",
       "      <td>0</td>\n",
       "    </tr>\n",
       "  </tbody>\n",
       "</table>\n",
       "</div>"
      ],
      "text/plain": [
       "  neighbourhood_group        room_type  latitude  longitude  price  \\\n",
       "0            Brooklyn     Private room  40.64749  -73.97237    149   \n",
       "1           Manhattan  Entire home/apt  40.75362  -73.98377    225   \n",
       "2           Manhattan     Private room  40.80902  -73.94190    150   \n",
       "3            Brooklyn  Entire home/apt  40.68514  -73.95976     89   \n",
       "4           Manhattan  Entire home/apt  40.79851  -73.94399     80   \n",
       "\n",
       "   minimum_nights  number_of_reviews  reviews_per_month  \\\n",
       "0               1                  9               0.21   \n",
       "1               1                 45               0.38   \n",
       "2               3                  0               0.00   \n",
       "3               1                270               4.64   \n",
       "4              10                  9               0.10   \n",
       "\n",
       "   calculated_host_listings_count  availability_365  \n",
       "0                               6               365  \n",
       "1                               2               355  \n",
       "2                               1               365  \n",
       "3                               1               194  \n",
       "4                               1                 0  "
      ]
     },
     "execution_count": 1,
     "metadata": {},
     "output_type": "execute_result"
    }
   ],
   "source": [
    "import numpy as np\n",
    "import pandas as pd\n",
    "\n",
    "columns = [\n",
    "    'neighbourhood_group',\n",
    "    'room_type',\n",
    "    'latitude',\n",
    "    'longitude',\n",
    "    'price',\n",
    "    'minimum_nights',\n",
    "    'number_of_reviews',\n",
    "    'reviews_per_month',\n",
    "    'calculated_host_listings_count',\n",
    "    'availability_365'    \n",
    "]\n",
    "df = pd.read_csv('AB_NYC_2019.csv')[columns].fillna(0)\n",
    "df.head()"
   ]
  },
  {
   "cell_type": "markdown",
   "id": "530a77bc",
   "metadata": {},
   "source": [
    "## Question 1\n",
    "What is the most frequent observation (mode) for the column `neighbourhood_group`?"
   ]
  },
  {
   "cell_type": "code",
   "execution_count": 2,
   "id": "746462b9",
   "metadata": {},
   "outputs": [
    {
     "data": {
      "text/plain": [
       "neighbourhood_group\n",
       "Bronx             1091\n",
       "Brooklyn         20104\n",
       "Manhattan        21661\n",
       "Queens            5666\n",
       "Staten Island      373\n",
       "dtype: int64"
      ]
     },
     "execution_count": 2,
     "metadata": {},
     "output_type": "execute_result"
    }
   ],
   "source": [
    "df.groupby('neighbourhood_group').size()"
   ]
  },
  {
   "cell_type": "markdown",
   "id": "244b1b65",
   "metadata": {},
   "source": [
    "### Split the data\n",
    "\n",
    "* Split your data in train/val/test sets, with 60%/20%/20% distribution.\n",
    "* Use Scikit-Learn for that (the `train_test_split` function) and set the seed to 42.\n",
    "* Make sure that the target value (`'price'`) is not in your dataframe."
   ]
  },
  {
   "cell_type": "code",
   "execution_count": 3,
   "id": "f27962a8",
   "metadata": {},
   "outputs": [],
   "source": [
    "from sklearn.model_selection import train_test_split\n",
    "\n",
    "def split_data(df, seed=42):\n",
    "    train, test = train_test_split(df, test_size=0.2, random_state=seed)\n",
    "    train, val = train_test_split(test, test_size=0.25, random_state=seed)\n",
    "    \n",
    "    dfs = [[d.drop('price', axis=1).reset_index(drop=True), d['price'].reset_index(drop=True)]\n",
    "          for d in [train, val, test]]\n",
    "    \n",
    "    return [item for pair in dfs for item in pair]"
   ]
  },
  {
   "cell_type": "code",
   "execution_count": 4,
   "id": "dcdb4a25",
   "metadata": {},
   "outputs": [
    {
     "data": {
      "text/html": [
       "<div>\n",
       "<style scoped>\n",
       "    .dataframe tbody tr th:only-of-type {\n",
       "        vertical-align: middle;\n",
       "    }\n",
       "\n",
       "    .dataframe tbody tr th {\n",
       "        vertical-align: top;\n",
       "    }\n",
       "\n",
       "    .dataframe thead th {\n",
       "        text-align: right;\n",
       "    }\n",
       "</style>\n",
       "<table border=\"1\" class=\"dataframe\">\n",
       "  <thead>\n",
       "    <tr style=\"text-align: right;\">\n",
       "      <th></th>\n",
       "      <th>neighbourhood_group</th>\n",
       "      <th>room_type</th>\n",
       "      <th>latitude</th>\n",
       "      <th>longitude</th>\n",
       "      <th>minimum_nights</th>\n",
       "      <th>number_of_reviews</th>\n",
       "      <th>reviews_per_month</th>\n",
       "      <th>calculated_host_listings_count</th>\n",
       "      <th>availability_365</th>\n",
       "    </tr>\n",
       "  </thead>\n",
       "  <tbody>\n",
       "    <tr>\n",
       "      <th>0</th>\n",
       "      <td>Brooklyn</td>\n",
       "      <td>Private room</td>\n",
       "      <td>40.62834</td>\n",
       "      <td>-73.90506</td>\n",
       "      <td>2</td>\n",
       "      <td>37</td>\n",
       "      <td>2.19</td>\n",
       "      <td>1</td>\n",
       "      <td>67</td>\n",
       "    </tr>\n",
       "    <tr>\n",
       "      <th>1</th>\n",
       "      <td>Manhattan</td>\n",
       "      <td>Entire home/apt</td>\n",
       "      <td>40.73476</td>\n",
       "      <td>-74.00100</td>\n",
       "      <td>1</td>\n",
       "      <td>7</td>\n",
       "      <td>0.12</td>\n",
       "      <td>1</td>\n",
       "      <td>0</td>\n",
       "    </tr>\n",
       "    <tr>\n",
       "      <th>2</th>\n",
       "      <td>Manhattan</td>\n",
       "      <td>Private room</td>\n",
       "      <td>40.85612</td>\n",
       "      <td>-73.93024</td>\n",
       "      <td>1</td>\n",
       "      <td>50</td>\n",
       "      <td>1.32</td>\n",
       "      <td>1</td>\n",
       "      <td>90</td>\n",
       "    </tr>\n",
       "    <tr>\n",
       "      <th>3</th>\n",
       "      <td>Manhattan</td>\n",
       "      <td>Private room</td>\n",
       "      <td>40.73083</td>\n",
       "      <td>-73.99430</td>\n",
       "      <td>4</td>\n",
       "      <td>0</td>\n",
       "      <td>0.00</td>\n",
       "      <td>1</td>\n",
       "      <td>0</td>\n",
       "    </tr>\n",
       "    <tr>\n",
       "      <th>4</th>\n",
       "      <td>Queens</td>\n",
       "      <td>Shared room</td>\n",
       "      <td>40.71540</td>\n",
       "      <td>-73.91148</td>\n",
       "      <td>1</td>\n",
       "      <td>5</td>\n",
       "      <td>2.68</td>\n",
       "      <td>1</td>\n",
       "      <td>89</td>\n",
       "    </tr>\n",
       "  </tbody>\n",
       "</table>\n",
       "</div>"
      ],
      "text/plain": [
       "  neighbourhood_group        room_type  latitude  longitude  minimum_nights  \\\n",
       "0            Brooklyn     Private room  40.62834  -73.90506               2   \n",
       "1           Manhattan  Entire home/apt  40.73476  -74.00100               1   \n",
       "2           Manhattan     Private room  40.85612  -73.93024               1   \n",
       "3           Manhattan     Private room  40.73083  -73.99430               4   \n",
       "4              Queens      Shared room  40.71540  -73.91148               1   \n",
       "\n",
       "   number_of_reviews  reviews_per_month  calculated_host_listings_count  \\\n",
       "0                 37               2.19                               1   \n",
       "1                  7               0.12                               1   \n",
       "2                 50               1.32                               1   \n",
       "3                  0               0.00                               1   \n",
       "4                  5               2.68                               1   \n",
       "\n",
       "   availability_365  \n",
       "0                67  \n",
       "1                 0  \n",
       "2                90  \n",
       "3                 0  \n",
       "4                89  "
      ]
     },
     "execution_count": 4,
     "metadata": {},
     "output_type": "execute_result"
    }
   ],
   "source": [
    "trainX, trainy, valX, valy, testX, testy = split_data(df)\n",
    "trainX.head()"
   ]
  },
  {
   "cell_type": "markdown",
   "id": "186297f7",
   "metadata": {},
   "source": [
    "## Question 2\n",
    "\n",
    "* Create the correlation matrix for the numerical features of your train dataset.\n",
    "  * In a correlation matrix, you compute the correlation coefficient between every pair of features in the dataset.\n",
    "* What are the two features that have the biggest correlation in this dataset?\n"
   ]
  },
  {
   "cell_type": "code",
   "execution_count": 5,
   "id": "bdb302b8",
   "metadata": {},
   "outputs": [
    {
     "data": {
      "text/html": [
       "<div>\n",
       "<style scoped>\n",
       "    .dataframe tbody tr th:only-of-type {\n",
       "        vertical-align: middle;\n",
       "    }\n",
       "\n",
       "    .dataframe tbody tr th {\n",
       "        vertical-align: top;\n",
       "    }\n",
       "\n",
       "    .dataframe thead th {\n",
       "        text-align: right;\n",
       "    }\n",
       "</style>\n",
       "<table border=\"1\" class=\"dataframe\">\n",
       "  <thead>\n",
       "    <tr style=\"text-align: right;\">\n",
       "      <th></th>\n",
       "      <th>latitude</th>\n",
       "      <th>longitude</th>\n",
       "      <th>minimum_nights</th>\n",
       "      <th>number_of_reviews</th>\n",
       "      <th>reviews_per_month</th>\n",
       "      <th>calculated_host_listings_count</th>\n",
       "      <th>availability_365</th>\n",
       "    </tr>\n",
       "  </thead>\n",
       "  <tbody>\n",
       "    <tr>\n",
       "      <th>latitude</th>\n",
       "      <td>1.000000</td>\n",
       "      <td>0.109087</td>\n",
       "      <td>0.022696</td>\n",
       "      <td>-0.026649</td>\n",
       "      <td>-0.037324</td>\n",
       "      <td>0.020536</td>\n",
       "      <td>-0.022594</td>\n",
       "    </tr>\n",
       "    <tr>\n",
       "      <th>longitude</th>\n",
       "      <td>0.109087</td>\n",
       "      <td>1.000000</td>\n",
       "      <td>-0.056032</td>\n",
       "      <td>0.053435</td>\n",
       "      <td>0.142865</td>\n",
       "      <td>-0.103358</td>\n",
       "      <td>0.084891</td>\n",
       "    </tr>\n",
       "    <tr>\n",
       "      <th>minimum_nights</th>\n",
       "      <td>0.022696</td>\n",
       "      <td>-0.056032</td>\n",
       "      <td>1.000000</td>\n",
       "      <td>-0.097775</td>\n",
       "      <td>-0.150102</td>\n",
       "      <td>0.177761</td>\n",
       "      <td>0.174556</td>\n",
       "    </tr>\n",
       "    <tr>\n",
       "      <th>number_of_reviews</th>\n",
       "      <td>-0.026649</td>\n",
       "      <td>0.053435</td>\n",
       "      <td>-0.097775</td>\n",
       "      <td>1.000000</td>\n",
       "      <td>0.605155</td>\n",
       "      <td>-0.070350</td>\n",
       "      <td>0.168153</td>\n",
       "    </tr>\n",
       "    <tr>\n",
       "      <th>reviews_per_month</th>\n",
       "      <td>-0.037324</td>\n",
       "      <td>0.142865</td>\n",
       "      <td>-0.150102</td>\n",
       "      <td>0.605155</td>\n",
       "      <td>1.000000</td>\n",
       "      <td>-0.051401</td>\n",
       "      <td>0.163345</td>\n",
       "    </tr>\n",
       "    <tr>\n",
       "      <th>calculated_host_listings_count</th>\n",
       "      <td>0.020536</td>\n",
       "      <td>-0.103358</td>\n",
       "      <td>0.177761</td>\n",
       "      <td>-0.070350</td>\n",
       "      <td>-0.051401</td>\n",
       "      <td>1.000000</td>\n",
       "      <td>0.228664</td>\n",
       "    </tr>\n",
       "    <tr>\n",
       "      <th>availability_365</th>\n",
       "      <td>-0.022594</td>\n",
       "      <td>0.084891</td>\n",
       "      <td>0.174556</td>\n",
       "      <td>0.168153</td>\n",
       "      <td>0.163345</td>\n",
       "      <td>0.228664</td>\n",
       "      <td>1.000000</td>\n",
       "    </tr>\n",
       "  </tbody>\n",
       "</table>\n",
       "</div>"
      ],
      "text/plain": [
       "                                latitude  longitude  minimum_nights  \\\n",
       "latitude                        1.000000   0.109087        0.022696   \n",
       "longitude                       0.109087   1.000000       -0.056032   \n",
       "minimum_nights                  0.022696  -0.056032        1.000000   \n",
       "number_of_reviews              -0.026649   0.053435       -0.097775   \n",
       "reviews_per_month              -0.037324   0.142865       -0.150102   \n",
       "calculated_host_listings_count  0.020536  -0.103358        0.177761   \n",
       "availability_365               -0.022594   0.084891        0.174556   \n",
       "\n",
       "                                number_of_reviews  reviews_per_month  \\\n",
       "latitude                                -0.026649          -0.037324   \n",
       "longitude                                0.053435           0.142865   \n",
       "minimum_nights                          -0.097775          -0.150102   \n",
       "number_of_reviews                        1.000000           0.605155   \n",
       "reviews_per_month                        0.605155           1.000000   \n",
       "calculated_host_listings_count          -0.070350          -0.051401   \n",
       "availability_365                         0.168153           0.163345   \n",
       "\n",
       "                                calculated_host_listings_count  \\\n",
       "latitude                                              0.020536   \n",
       "longitude                                            -0.103358   \n",
       "minimum_nights                                        0.177761   \n",
       "number_of_reviews                                    -0.070350   \n",
       "reviews_per_month                                    -0.051401   \n",
       "calculated_host_listings_count                        1.000000   \n",
       "availability_365                                      0.228664   \n",
       "\n",
       "                                availability_365  \n",
       "latitude                               -0.022594  \n",
       "longitude                               0.084891  \n",
       "minimum_nights                          0.174556  \n",
       "number_of_reviews                       0.168153  \n",
       "reviews_per_month                       0.163345  \n",
       "calculated_host_listings_count          0.228664  \n",
       "availability_365                        1.000000  "
      ]
     },
     "execution_count": 5,
     "metadata": {},
     "output_type": "execute_result"
    }
   ],
   "source": [
    "trainX.corr()"
   ]
  },
  {
   "cell_type": "code",
   "execution_count": 6,
   "id": "dedede62",
   "metadata": {},
   "outputs": [
    {
     "data": {
      "text/plain": [
       "number_of_reviews                 0.605155\n",
       "reviews_per_month                 0.605155\n",
       "calculated_host_listings_count    0.228664\n",
       "availability_365                  0.228664\n",
       "minimum_nights                    0.177761\n",
       "longitude                         0.142865\n",
       "latitude                          0.109087\n",
       "dtype: float64"
      ]
     },
     "execution_count": 6,
     "metadata": {},
     "output_type": "execute_result"
    }
   ],
   "source": [
    "trainX.corr().replace({1: 0}).max().sort_values(ascending=False)"
   ]
  },
  {
   "cell_type": "code",
   "execution_count": 7,
   "id": "54dc943f",
   "metadata": {},
   "outputs": [
    {
     "data": {
      "text/plain": [
       "minimum_nights                   -0.150102\n",
       "reviews_per_month                -0.150102\n",
       "longitude                        -0.103358\n",
       "calculated_host_listings_count   -0.103358\n",
       "number_of_reviews                -0.097775\n",
       "latitude                         -0.037324\n",
       "availability_365                 -0.022594\n",
       "dtype: float64"
      ]
     },
     "execution_count": 7,
     "metadata": {},
     "output_type": "execute_result"
    }
   ],
   "source": [
    "trainX.corr().replace({1: 0}).min().sort_values(ascending=True)"
   ]
  },
  {
   "cell_type": "markdown",
   "id": "4dea646f",
   "metadata": {},
   "source": [
    "Two features with largest correlation are `number_of_reviews` and `reviews_per_month`."
   ]
  },
  {
   "cell_type": "markdown",
   "id": "c28e29a2",
   "metadata": {},
   "source": [
    "### Make price binary\n",
    "\n",
    "* We need to turn the price variable from numeric into binary.\n",
    "* Let's create a variable `above_average` which is one if the price is above (or equal to) `152`."
   ]
  },
  {
   "cell_type": "code",
   "execution_count": 8,
   "id": "989a14a3",
   "metadata": {},
   "outputs": [],
   "source": [
    "train_above_average, val_above_average, test_above_average = [(y >= 152).astype('int') for y in [trainy, valy, testy]]"
   ]
  },
  {
   "cell_type": "markdown",
   "id": "0e17652b",
   "metadata": {},
   "source": [
    "## Question 3\n",
    "\n",
    "* Calculate the mutual information score for the two categorical variables that we have. Use the training set only.\n",
    "* Which of these two variables has bigger score?\n",
    "* Round it to 2 decimal digits using `round(score, 2)`"
   ]
  },
  {
   "cell_type": "code",
   "execution_count": 9,
   "id": "1dcbbbdc",
   "metadata": {},
   "outputs": [
    {
     "data": {
      "text/plain": [
       "0.04"
      ]
     },
     "execution_count": 9,
     "metadata": {},
     "output_type": "execute_result"
    }
   ],
   "source": [
    "from sklearn.metrics import mutual_info_score\n",
    "\n",
    "round(mutual_info_score(trainX.neighbourhood_group, train_above_average), 2)"
   ]
  },
  {
   "cell_type": "code",
   "execution_count": 10,
   "id": "0188f7cb",
   "metadata": {},
   "outputs": [
    {
     "data": {
      "text/plain": [
       "0.14"
      ]
     },
     "execution_count": 10,
     "metadata": {},
     "output_type": "execute_result"
    }
   ],
   "source": [
    "round(mutual_info_score(trainX.room_type, train_above_average), 2)"
   ]
  },
  {
   "cell_type": "markdown",
   "id": "b96f8ca6",
   "metadata": {},
   "source": [
    "`room_type` has a bigger score."
   ]
  },
  {
   "cell_type": "markdown",
   "id": "91aa7482",
   "metadata": {},
   "source": [
    "## Question 4\n",
    "\n",
    "* Now let's train a logistic regression\n",
    "* Remember that we have two categorical variables in the data. Include them using one-hot encoding.\n",
    "* Fit the model on the training dataset.\n",
    "  * To make sure the results are reproducible across different versions of Scikit-Learn, fit the model with these parameters:\n",
    "  * model = LogisticRegression(solver='lbfgs', C=1.0, random_state=42)\n",
    "* Calculate the accuracy on the validation dataset and rount it to 2 decimal digits."
   ]
  },
  {
   "cell_type": "code",
   "execution_count": 11,
   "id": "e12ddc1b",
   "metadata": {},
   "outputs": [
    {
     "data": {
      "text/plain": [
       "0.8"
      ]
     },
     "execution_count": 11,
     "metadata": {},
     "output_type": "execute_result"
    }
   ],
   "source": [
    "from sklearn.feature_extraction import DictVectorizer\n",
    "from sklearn.linear_model import LogisticRegression\n",
    "\n",
    "CAT_VARS = ['neighbourhood_group', 'room_type']\n",
    "NUM_VARS = list(filter(lambda s: s not in CAT_VARS, trainX.columns))\n",
    "\n",
    "def train_dictvectorizer(df, cat_vars):\n",
    "    dv = DictVectorizer(sparse=False)\n",
    "    dv.fit(trainX[cat_vars].to_dict(orient='records'))\n",
    "    return dv\n",
    "\n",
    "def transform(df, dv, col_drop):\n",
    "    nums = df[NUM_VARS].drop(col_drop, axis=1, errors='ignore')\n",
    "    cats = dv.transform(df[CAT_VARS].drop(col_drop, axis=1, errors='ignore').to_dict(orient='records'))\n",
    "    return np.c_[nums, cats]\n",
    "\n",
    "\n",
    "def train_model(dfX, dfy, dv, col_drop=''):\n",
    "    dfX_transformed = transform(dfX, dv, col_drop)\n",
    "    model = LogisticRegression(solver='liblinear', C=1.0, random_state=42)\n",
    "    model.fit(dfX_transformed, dfy)\n",
    "    \n",
    "    return model\n",
    "\n",
    "def score_on_val(model, valX, valy, dv, col_drop=''):\n",
    "    valX_transformed = transform(valX, dv, col_drop)\n",
    "    predictions = model.predict(valX_transformed)\n",
    "    return round((predictions == valy).mean(), 2)\n",
    "\n",
    "\n",
    "dv = train_dictvectorizer(trainX, CAT_VARS)\n",
    "model = train_model(trainX, train_above_average, dv)\n",
    "original_score = score_on_val(model, valX, val_above_average, dv)\n",
    "original_score"
   ]
  },
  {
   "cell_type": "markdown",
   "id": "486c72e6",
   "metadata": {},
   "source": [
    "## Question 5\n",
    "\n",
    "* We have 9 features: 7 numerical features and 2 categorical.\n",
    "* Let's find the least useful one using the feature elimination technique.\n",
    "* Train a model with all these features (using the same parameters as in Q4).\n",
    "* Now exclude each feature from this set and train a model without it. Record the accuracy for each model.\n",
    "* For each feature, calculate the difference between the original accuracy and the accuracy without the feature.\n",
    "* Which of following feature has the smallest difference?\n",
    "  * `neighbourhood_group`\n",
    "  * `room_type`\n",
    "  * `number_of_reviews`\n",
    "  * `reviews_per_month`\n",
    "\n",
    "> note: the difference doesn't have to be positive"
   ]
  },
  {
   "cell_type": "code",
   "execution_count": 12,
   "id": "4ffac556",
   "metadata": {},
   "outputs": [
    {
     "data": {
      "text/plain": [
       "{'neighbourhood_group': 0.06,\n",
       " 'room_type': 0.07,\n",
       " 'latitude': 0.0,\n",
       " 'longitude': 0.0,\n",
       " 'price': 0.0,\n",
       " 'minimum_nights': 0.01,\n",
       " 'number_of_reviews': 0.01,\n",
       " 'reviews_per_month': 0.01,\n",
       " 'calculated_host_listings_count': 0.0,\n",
       " 'availability_365': 0.01}"
      ]
     },
     "execution_count": 12,
     "metadata": {},
     "output_type": "execute_result"
    }
   ],
   "source": [
    "scores = {}\n",
    "\n",
    "\n",
    "for col in df.columns:\n",
    "    dv = train_dictvectorizer(trainX.drop(col, axis=1, errors='ignore'), list(filter(lambda s: s != col, CAT_VARS)))\n",
    "    model = train_model(trainX, train_above_average, dv, col)\n",
    "    scores[col] = score_on_val(model, valX, val_above_average, dv, col)\n",
    "\n",
    "{col: round(abs(original_score - score), 2) for (col, score) in scores.items()}"
   ]
  },
  {
   "cell_type": "markdown",
   "id": "f3627051",
   "metadata": {},
   "source": [
    "## Question 6\n",
    "\n",
    "* For this question, we'll see how to use a linear regression model from Scikit-Learn\n",
    "* We'll need to use the original column `'price'`. Apply the logarithmic transformation to this column.\n",
    "* Fit the Ridge regression model on the training data.\n",
    "* This model has a parameter `alpha`. Let's try the following values: `[0, 0.01, 0.1, 1, 10]`\n",
    "* Which of these alphas leads to the best RMSE on the validation set? Round your RMSE scores to 3 decimal digits.\n",
    "\n",
    "If there are multiple options, select the smallest `alpha`."
   ]
  },
  {
   "cell_type": "code",
   "execution_count": 13,
   "id": "574671d9",
   "metadata": {},
   "outputs": [
    {
     "data": {
      "text/plain": [
       "[{'alpha': 0, 'rmse': 0.478},\n",
       " {'alpha': 0.01, 'rmse': 0.478},\n",
       " {'alpha': 0.1, 'rmse': 0.478},\n",
       " {'alpha': 1, 'rmse': 0.478},\n",
       " {'alpha': 10, 'rmse': 0.482}]"
      ]
     },
     "execution_count": 13,
     "metadata": {},
     "output_type": "execute_result"
    }
   ],
   "source": [
    "from sklearn.linear_model import Ridge\n",
    "from sklearn.metrics import mean_squared_error\n",
    "\n",
    "trainy = np.log1p(trainy)\n",
    "valy = np.log1p(valy)\n",
    "testy = np.log1p(testy)\n",
    "dv = train_dictvectorizer(trainX, CAT_VARS)\n",
    "scores = []\n",
    "\n",
    "for alpha in [0, 0.01, 0.1, 1, 10]:\n",
    "    model = Ridge(alpha=alpha, random_state=42)\n",
    "    model.fit(transform(trainX, dv, ''), trainy)\n",
    "    \n",
    "    predictions = model.predict(transform(valX, dv, ''))\n",
    "    rmse = np.sqrt(mean_squared_error(predictions, valy))\n",
    "    scores.append({'alpha': alpha, 'rmse': round(rmse, 3)})\n",
    "    \n",
    "scores"
   ]
  }
 ],
 "metadata": {
  "kernelspec": {
   "display_name": "Python 3 (ipykernel)",
   "language": "python",
   "name": "python3"
  },
  "language_info": {
   "codemirror_mode": {
    "name": "ipython",
    "version": 3
   },
   "file_extension": ".py",
   "mimetype": "text/x-python",
   "name": "python",
   "nbconvert_exporter": "python",
   "pygments_lexer": "ipython3",
   "version": "3.9.6"
  }
 },
 "nbformat": 4,
 "nbformat_minor": 5
}

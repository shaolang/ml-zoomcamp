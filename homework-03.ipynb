{
 "cells": [
  {
   "cell_type": "markdown",
   "id": "765f9c48",
   "metadata": {},
   "source": [
    "# Homework\n",
    "## Dataset\n",
    "In this homework, we will continue the New York City Airbnb Open Data.\n",
    "\n",
    "We'll keep working with the `price` variable, and we'll transform it to a classification task.\n",
    "\n",
    "## Features\n",
    "For the rest of the homework, you'll need to use the features from the previous homework with additional two `neighbourhood_group` and `room_type`. So the whole feature set will be set as follows:\n",
    "\n",
    "* `neighbourhood_group`,\n",
    "* `room_type`,\n",
    "* `latitude`,\n",
    "* `longitude`,\n",
    "* `price`,\n",
    "* `minimum_nights`,\n",
    "* `number_of_reviews`,\n",
    "* `reviews_per_month`,\n",
    "* `calculated_host_listings_count`,\n",
    "* `availability_365`\n",
    "\n",
    "Select only them and fill in the missing values with 0."
   ]
  },
  {
   "cell_type": "code",
   "execution_count": 1,
   "id": "17f94093",
   "metadata": {},
   "outputs": [
    {
     "data": {
      "text/html": [
       "<div>\n",
       "<style scoped>\n",
       "    .dataframe tbody tr th:only-of-type {\n",
       "        vertical-align: middle;\n",
       "    }\n",
       "\n",
       "    .dataframe tbody tr th {\n",
       "        vertical-align: top;\n",
       "    }\n",
       "\n",
       "    .dataframe thead th {\n",
       "        text-align: right;\n",
       "    }\n",
       "</style>\n",
       "<table border=\"1\" class=\"dataframe\">\n",
       "  <thead>\n",
       "    <tr style=\"text-align: right;\">\n",
       "      <th></th>\n",
       "      <th>neighbourhood_group</th>\n",
       "      <th>room_type</th>\n",
       "      <th>latitude</th>\n",
       "      <th>longitude</th>\n",
       "      <th>price</th>\n",
       "      <th>minimum_nights</th>\n",
       "      <th>number_of_reviews</th>\n",
       "      <th>reviews_per_month</th>\n",
       "      <th>calculated_host_listings_count</th>\n",
       "      <th>availability_365</th>\n",
       "    </tr>\n",
       "  </thead>\n",
       "  <tbody>\n",
       "    <tr>\n",
       "      <th>0</th>\n",
       "      <td>Brooklyn</td>\n",
       "      <td>Private room</td>\n",
       "      <td>40.64749</td>\n",
       "      <td>-73.97237</td>\n",
       "      <td>149</td>\n",
       "      <td>1</td>\n",
       "      <td>9</td>\n",
       "      <td>0.21</td>\n",
       "      <td>6</td>\n",
       "      <td>365</td>\n",
       "    </tr>\n",
       "    <tr>\n",
       "      <th>1</th>\n",
       "      <td>Manhattan</td>\n",
       "      <td>Entire home/apt</td>\n",
       "      <td>40.75362</td>\n",
       "      <td>-73.98377</td>\n",
       "      <td>225</td>\n",
       "      <td>1</td>\n",
       "      <td>45</td>\n",
       "      <td>0.38</td>\n",
       "      <td>2</td>\n",
       "      <td>355</td>\n",
       "    </tr>\n",
       "    <tr>\n",
       "      <th>2</th>\n",
       "      <td>Manhattan</td>\n",
       "      <td>Private room</td>\n",
       "      <td>40.80902</td>\n",
       "      <td>-73.94190</td>\n",
       "      <td>150</td>\n",
       "      <td>3</td>\n",
       "      <td>0</td>\n",
       "      <td>0.00</td>\n",
       "      <td>1</td>\n",
       "      <td>365</td>\n",
       "    </tr>\n",
       "    <tr>\n",
       "      <th>3</th>\n",
       "      <td>Brooklyn</td>\n",
       "      <td>Entire home/apt</td>\n",
       "      <td>40.68514</td>\n",
       "      <td>-73.95976</td>\n",
       "      <td>89</td>\n",
       "      <td>1</td>\n",
       "      <td>270</td>\n",
       "      <td>4.64</td>\n",
       "      <td>1</td>\n",
       "      <td>194</td>\n",
       "    </tr>\n",
       "    <tr>\n",
       "      <th>4</th>\n",
       "      <td>Manhattan</td>\n",
       "      <td>Entire home/apt</td>\n",
       "      <td>40.79851</td>\n",
       "      <td>-73.94399</td>\n",
       "      <td>80</td>\n",
       "      <td>10</td>\n",
       "      <td>9</td>\n",
       "      <td>0.10</td>\n",
       "      <td>1</td>\n",
       "      <td>0</td>\n",
       "    </tr>\n",
       "  </tbody>\n",
       "</table>\n",
       "</div>"
      ],
      "text/plain": [
       "  neighbourhood_group        room_type  latitude  longitude  price  \\\n",
       "0            Brooklyn     Private room  40.64749  -73.97237    149   \n",
       "1           Manhattan  Entire home/apt  40.75362  -73.98377    225   \n",
       "2           Manhattan     Private room  40.80902  -73.94190    150   \n",
       "3            Brooklyn  Entire home/apt  40.68514  -73.95976     89   \n",
       "4           Manhattan  Entire home/apt  40.79851  -73.94399     80   \n",
       "\n",
       "   minimum_nights  number_of_reviews  reviews_per_month  \\\n",
       "0               1                  9               0.21   \n",
       "1               1                 45               0.38   \n",
       "2               3                  0               0.00   \n",
       "3               1                270               4.64   \n",
       "4              10                  9               0.10   \n",
       "\n",
       "   calculated_host_listings_count  availability_365  \n",
       "0                               6               365  \n",
       "1                               2               355  \n",
       "2                               1               365  \n",
       "3                               1               194  \n",
       "4                               1                 0  "
      ]
     },
     "execution_count": 1,
     "metadata": {},
     "output_type": "execute_result"
    }
   ],
   "source": [
    "import numpy as np\n",
    "import pandas as pd\n",
    "\n",
    "columns = [\n",
    "    'neighbourhood_group',\n",
    "    'room_type',\n",
    "    'latitude',\n",
    "    'longitude',\n",
    "    'price',\n",
    "    'minimum_nights',\n",
    "    'number_of_reviews',\n",
    "    'reviews_per_month',\n",
    "    'calculated_host_listings_count',\n",
    "    'availability_365'    \n",
    "]\n",
    "df = pd.read_csv('AB_NYC_2019.csv')[columns].fillna(0)\n",
    "df.head()"
   ]
  },
  {
   "cell_type": "markdown",
   "id": "530a77bc",
   "metadata": {},
   "source": [
    "## Question 1\n",
    "What is the most frequent observation (mode) for the column `neighbourhood_group`?"
   ]
  },
  {
   "cell_type": "code",
   "execution_count": 2,
   "id": "746462b9",
   "metadata": {},
   "outputs": [
    {
     "data": {
      "text/plain": [
       "neighbourhood_group\n",
       "Bronx             1091\n",
       "Brooklyn         20104\n",
       "Manhattan        21661\n",
       "Queens            5666\n",
       "Staten Island      373\n",
       "dtype: int64"
      ]
     },
     "execution_count": 2,
     "metadata": {},
     "output_type": "execute_result"
    }
   ],
   "source": [
    "df.groupby('neighbourhood_group').size()"
   ]
  },
  {
   "cell_type": "markdown",
   "id": "244b1b65",
   "metadata": {},
   "source": [
    "### Split the data\n",
    "\n",
    "* Split your data in train/val/test sets, with 60%/20%/20% distribution.\n",
    "* Use Scikit-Learn for that (the `train_test_split` function) and set the seed to 42.\n",
    "* Make sure that the target value (`'price'`) is not in your dataframe."
   ]
  },
  {
   "cell_type": "code",
   "execution_count": 3,
   "id": "f27962a8",
   "metadata": {},
   "outputs": [],
   "source": [
    "from sklearn.model_selection import train_test_split\n",
    "\n",
    "def split_data(df, seed=42):\n",
    "    train, test = train_test_split(df, test_size=0.2, random_state=seed)\n",
    "    train, val = train_test_split(train, test_size=0.25, random_state=seed)\n",
    "    \n",
    "    dfs = [[d.drop('price', axis=1).reset_index(drop=True), d['price'].reset_index(drop=True)]\n",
    "          for d in [train, val, test]]\n",
    "    \n",
    "    return [item for pair in dfs for item in pair]"
   ]
  },
  {
   "cell_type": "code",
   "execution_count": 4,
   "id": "dcdb4a25",
   "metadata": {},
   "outputs": [
    {
     "data": {
      "text/html": [
       "<div>\n",
       "<style scoped>\n",
       "    .dataframe tbody tr th:only-of-type {\n",
       "        vertical-align: middle;\n",
       "    }\n",
       "\n",
       "    .dataframe tbody tr th {\n",
       "        vertical-align: top;\n",
       "    }\n",
       "\n",
       "    .dataframe thead th {\n",
       "        text-align: right;\n",
       "    }\n",
       "</style>\n",
       "<table border=\"1\" class=\"dataframe\">\n",
       "  <thead>\n",
       "    <tr style=\"text-align: right;\">\n",
       "      <th></th>\n",
       "      <th>neighbourhood_group</th>\n",
       "      <th>room_type</th>\n",
       "      <th>latitude</th>\n",
       "      <th>longitude</th>\n",
       "      <th>minimum_nights</th>\n",
       "      <th>number_of_reviews</th>\n",
       "      <th>reviews_per_month</th>\n",
       "      <th>calculated_host_listings_count</th>\n",
       "      <th>availability_365</th>\n",
       "    </tr>\n",
       "  </thead>\n",
       "  <tbody>\n",
       "    <tr>\n",
       "      <th>0</th>\n",
       "      <td>Brooklyn</td>\n",
       "      <td>Entire home/apt</td>\n",
       "      <td>40.72760</td>\n",
       "      <td>-73.94495</td>\n",
       "      <td>3</td>\n",
       "      <td>29</td>\n",
       "      <td>0.70</td>\n",
       "      <td>13</td>\n",
       "      <td>50</td>\n",
       "    </tr>\n",
       "    <tr>\n",
       "      <th>1</th>\n",
       "      <td>Manhattan</td>\n",
       "      <td>Private room</td>\n",
       "      <td>40.70847</td>\n",
       "      <td>-74.00498</td>\n",
       "      <td>1</td>\n",
       "      <td>0</td>\n",
       "      <td>0.00</td>\n",
       "      <td>1</td>\n",
       "      <td>7</td>\n",
       "    </tr>\n",
       "    <tr>\n",
       "      <th>2</th>\n",
       "      <td>Bronx</td>\n",
       "      <td>Entire home/apt</td>\n",
       "      <td>40.83149</td>\n",
       "      <td>-73.92766</td>\n",
       "      <td>40</td>\n",
       "      <td>0</td>\n",
       "      <td>0.00</td>\n",
       "      <td>1</td>\n",
       "      <td>0</td>\n",
       "    </tr>\n",
       "    <tr>\n",
       "      <th>3</th>\n",
       "      <td>Brooklyn</td>\n",
       "      <td>Entire home/apt</td>\n",
       "      <td>40.66448</td>\n",
       "      <td>-73.99407</td>\n",
       "      <td>2</td>\n",
       "      <td>3</td>\n",
       "      <td>0.08</td>\n",
       "      <td>1</td>\n",
       "      <td>0</td>\n",
       "    </tr>\n",
       "    <tr>\n",
       "      <th>4</th>\n",
       "      <td>Manhattan</td>\n",
       "      <td>Private room</td>\n",
       "      <td>40.74118</td>\n",
       "      <td>-74.00012</td>\n",
       "      <td>1</td>\n",
       "      <td>48</td>\n",
       "      <td>1.80</td>\n",
       "      <td>2</td>\n",
       "      <td>67</td>\n",
       "    </tr>\n",
       "  </tbody>\n",
       "</table>\n",
       "</div>"
      ],
      "text/plain": [
       "  neighbourhood_group        room_type  latitude  longitude  minimum_nights  \\\n",
       "0            Brooklyn  Entire home/apt  40.72760  -73.94495               3   \n",
       "1           Manhattan     Private room  40.70847  -74.00498               1   \n",
       "2               Bronx  Entire home/apt  40.83149  -73.92766              40   \n",
       "3            Brooklyn  Entire home/apt  40.66448  -73.99407               2   \n",
       "4           Manhattan     Private room  40.74118  -74.00012               1   \n",
       "\n",
       "   number_of_reviews  reviews_per_month  calculated_host_listings_count  \\\n",
       "0                 29               0.70                              13   \n",
       "1                  0               0.00                               1   \n",
       "2                  0               0.00                               1   \n",
       "3                  3               0.08                               1   \n",
       "4                 48               1.80                               2   \n",
       "\n",
       "   availability_365  \n",
       "0                50  \n",
       "1                 7  \n",
       "2                 0  \n",
       "3                 0  \n",
       "4                67  "
      ]
     },
     "execution_count": 4,
     "metadata": {},
     "output_type": "execute_result"
    }
   ],
   "source": [
    "trainX, trainy, valX, valy, testX, testy = split_data(df)\n",
    "trainX.head()"
   ]
  },
  {
   "cell_type": "markdown",
   "id": "186297f7",
   "metadata": {},
   "source": [
    "## Question 2\n",
    "\n",
    "* Create the correlation matrix for the numerical features of your train dataset.\n",
    "  * In a correlation matrix, you compute the correlation coefficient between every pair of features in the dataset.\n",
    "* What are the two features that have the biggest correlation in this dataset?\n"
   ]
  },
  {
   "cell_type": "code",
   "execution_count": 5,
   "id": "bdb302b8",
   "metadata": {},
   "outputs": [
    {
     "data": {
      "text/html": [
       "<div>\n",
       "<style scoped>\n",
       "    .dataframe tbody tr th:only-of-type {\n",
       "        vertical-align: middle;\n",
       "    }\n",
       "\n",
       "    .dataframe tbody tr th {\n",
       "        vertical-align: top;\n",
       "    }\n",
       "\n",
       "    .dataframe thead th {\n",
       "        text-align: right;\n",
       "    }\n",
       "</style>\n",
       "<table border=\"1\" class=\"dataframe\">\n",
       "  <thead>\n",
       "    <tr style=\"text-align: right;\">\n",
       "      <th></th>\n",
       "      <th>latitude</th>\n",
       "      <th>longitude</th>\n",
       "      <th>minimum_nights</th>\n",
       "      <th>number_of_reviews</th>\n",
       "      <th>reviews_per_month</th>\n",
       "      <th>calculated_host_listings_count</th>\n",
       "      <th>availability_365</th>\n",
       "    </tr>\n",
       "  </thead>\n",
       "  <tbody>\n",
       "    <tr>\n",
       "      <th>latitude</th>\n",
       "      <td>1.000000</td>\n",
       "      <td>0.080301</td>\n",
       "      <td>0.027441</td>\n",
       "      <td>-0.006246</td>\n",
       "      <td>-0.007159</td>\n",
       "      <td>0.019375</td>\n",
       "      <td>-0.005891</td>\n",
       "    </tr>\n",
       "    <tr>\n",
       "      <th>longitude</th>\n",
       "      <td>0.080301</td>\n",
       "      <td>1.000000</td>\n",
       "      <td>-0.060660</td>\n",
       "      <td>0.055084</td>\n",
       "      <td>0.134642</td>\n",
       "      <td>-0.117041</td>\n",
       "      <td>0.083666</td>\n",
       "    </tr>\n",
       "    <tr>\n",
       "      <th>minimum_nights</th>\n",
       "      <td>0.027441</td>\n",
       "      <td>-0.060660</td>\n",
       "      <td>1.000000</td>\n",
       "      <td>-0.076020</td>\n",
       "      <td>-0.120703</td>\n",
       "      <td>0.118647</td>\n",
       "      <td>0.138901</td>\n",
       "    </tr>\n",
       "    <tr>\n",
       "      <th>number_of_reviews</th>\n",
       "      <td>-0.006246</td>\n",
       "      <td>0.055084</td>\n",
       "      <td>-0.076020</td>\n",
       "      <td>1.000000</td>\n",
       "      <td>0.590374</td>\n",
       "      <td>-0.073167</td>\n",
       "      <td>0.174477</td>\n",
       "    </tr>\n",
       "    <tr>\n",
       "      <th>reviews_per_month</th>\n",
       "      <td>-0.007159</td>\n",
       "      <td>0.134642</td>\n",
       "      <td>-0.120703</td>\n",
       "      <td>0.590374</td>\n",
       "      <td>1.000000</td>\n",
       "      <td>-0.048767</td>\n",
       "      <td>0.165376</td>\n",
       "    </tr>\n",
       "    <tr>\n",
       "      <th>calculated_host_listings_count</th>\n",
       "      <td>0.019375</td>\n",
       "      <td>-0.117041</td>\n",
       "      <td>0.118647</td>\n",
       "      <td>-0.073167</td>\n",
       "      <td>-0.048767</td>\n",
       "      <td>1.000000</td>\n",
       "      <td>0.225913</td>\n",
       "    </tr>\n",
       "    <tr>\n",
       "      <th>availability_365</th>\n",
       "      <td>-0.005891</td>\n",
       "      <td>0.083666</td>\n",
       "      <td>0.138901</td>\n",
       "      <td>0.174477</td>\n",
       "      <td>0.165376</td>\n",
       "      <td>0.225913</td>\n",
       "      <td>1.000000</td>\n",
       "    </tr>\n",
       "  </tbody>\n",
       "</table>\n",
       "</div>"
      ],
      "text/plain": [
       "                                latitude  longitude  minimum_nights  \\\n",
       "latitude                        1.000000   0.080301        0.027441   \n",
       "longitude                       0.080301   1.000000       -0.060660   \n",
       "minimum_nights                  0.027441  -0.060660        1.000000   \n",
       "number_of_reviews              -0.006246   0.055084       -0.076020   \n",
       "reviews_per_month              -0.007159   0.134642       -0.120703   \n",
       "calculated_host_listings_count  0.019375  -0.117041        0.118647   \n",
       "availability_365               -0.005891   0.083666        0.138901   \n",
       "\n",
       "                                number_of_reviews  reviews_per_month  \\\n",
       "latitude                                -0.006246          -0.007159   \n",
       "longitude                                0.055084           0.134642   \n",
       "minimum_nights                          -0.076020          -0.120703   \n",
       "number_of_reviews                        1.000000           0.590374   \n",
       "reviews_per_month                        0.590374           1.000000   \n",
       "calculated_host_listings_count          -0.073167          -0.048767   \n",
       "availability_365                         0.174477           0.165376   \n",
       "\n",
       "                                calculated_host_listings_count  \\\n",
       "latitude                                              0.019375   \n",
       "longitude                                            -0.117041   \n",
       "minimum_nights                                        0.118647   \n",
       "number_of_reviews                                    -0.073167   \n",
       "reviews_per_month                                    -0.048767   \n",
       "calculated_host_listings_count                        1.000000   \n",
       "availability_365                                      0.225913   \n",
       "\n",
       "                                availability_365  \n",
       "latitude                               -0.005891  \n",
       "longitude                               0.083666  \n",
       "minimum_nights                          0.138901  \n",
       "number_of_reviews                       0.174477  \n",
       "reviews_per_month                       0.165376  \n",
       "calculated_host_listings_count          0.225913  \n",
       "availability_365                        1.000000  "
      ]
     },
     "execution_count": 5,
     "metadata": {},
     "output_type": "execute_result"
    }
   ],
   "source": [
    "trainX.corr()"
   ]
  },
  {
   "cell_type": "code",
   "execution_count": 6,
   "id": "dedede62",
   "metadata": {},
   "outputs": [
    {
     "data": {
      "text/plain": [
       "number_of_reviews                 0.590374\n",
       "reviews_per_month                 0.590374\n",
       "calculated_host_listings_count    0.225913\n",
       "availability_365                  0.225913\n",
       "minimum_nights                    0.138901\n",
       "longitude                         0.134642\n",
       "latitude                          0.080301\n",
       "dtype: float64"
      ]
     },
     "execution_count": 6,
     "metadata": {},
     "output_type": "execute_result"
    }
   ],
   "source": [
    "trainX.corr().replace({1: 0}).max().sort_values(ascending=False)"
   ]
  },
  {
   "cell_type": "code",
   "execution_count": 7,
   "id": "54dc943f",
   "metadata": {},
   "outputs": [
    {
     "data": {
      "text/plain": [
       "minimum_nights                   -0.120703\n",
       "reviews_per_month                -0.120703\n",
       "longitude                        -0.117041\n",
       "calculated_host_listings_count   -0.117041\n",
       "number_of_reviews                -0.076020\n",
       "latitude                         -0.007159\n",
       "availability_365                 -0.005891\n",
       "dtype: float64"
      ]
     },
     "execution_count": 7,
     "metadata": {},
     "output_type": "execute_result"
    }
   ],
   "source": [
    "trainX.corr().replace({1: 0}).min().sort_values(ascending=True)"
   ]
  },
  {
   "cell_type": "markdown",
   "id": "4dea646f",
   "metadata": {},
   "source": [
    "Two features with largest correlation are `number_of_reviews` and `reviews_per_month`."
   ]
  },
  {
   "cell_type": "markdown",
   "id": "c28e29a2",
   "metadata": {},
   "source": [
    "### Make price binary\n",
    "\n",
    "* We need to turn the price variable from numeric into binary.\n",
    "* Let's create a variable `above_average` which is one if the price is above (or equal to) `152`."
   ]
  },
  {
   "cell_type": "code",
   "execution_count": 8,
   "id": "989a14a3",
   "metadata": {},
   "outputs": [],
   "source": [
    "train_above_average, val_above_average, test_above_average = [(y >= 152).astype('int') for y in [trainy, valy, testy]]"
   ]
  },
  {
   "cell_type": "markdown",
   "id": "0e17652b",
   "metadata": {},
   "source": [
    "## Question 3\n",
    "\n",
    "* Calculate the mutual information score for the two categorical variables that we have. Use the training set only.\n",
    "* Which of these two variables has bigger score?\n",
    "* Round it to 2 decimal digits using `round(score, 2)`"
   ]
  },
  {
   "cell_type": "code",
   "execution_count": 9,
   "id": "1dcbbbdc",
   "metadata": {},
   "outputs": [
    {
     "data": {
      "text/plain": [
       "0.05"
      ]
     },
     "execution_count": 9,
     "metadata": {},
     "output_type": "execute_result"
    }
   ],
   "source": [
    "from sklearn.metrics import mutual_info_score\n",
    "\n",
    "round(mutual_info_score(trainX.neighbourhood_group, train_above_average), 2)"
   ]
  },
  {
   "cell_type": "code",
   "execution_count": 10,
   "id": "0188f7cb",
   "metadata": {},
   "outputs": [
    {
     "data": {
      "text/plain": [
       "0.14"
      ]
     },
     "execution_count": 10,
     "metadata": {},
     "output_type": "execute_result"
    }
   ],
   "source": [
    "round(mutual_info_score(trainX.room_type, train_above_average), 2)"
   ]
  },
  {
   "cell_type": "markdown",
   "id": "b96f8ca6",
   "metadata": {},
   "source": [
    "`room_type` has a bigger score."
   ]
  },
  {
   "cell_type": "markdown",
   "id": "91aa7482",
   "metadata": {},
   "source": [
    "## Question 4\n",
    "\n",
    "* Now let's train a logistic regression\n",
    "* Remember that we have two categorical variables in the data. Include them using one-hot encoding.\n",
    "* Fit the model on the training dataset.\n",
    "  * To make sure the results are reproducible across different versions of Scikit-Learn, fit the model with these parameters:\n",
    "  * model = LogisticRegression(solver='lbfgs', C=1.0, random_state=42)\n",
    "* Calculate the accuracy on the validation dataset and rount it to 2 decimal digits."
   ]
  },
  {
   "cell_type": "code",
   "execution_count": 11,
   "id": "e12ddc1b",
   "metadata": {},
   "outputs": [
    {
     "data": {
      "text/plain": [
       "0.79"
      ]
     },
     "execution_count": 11,
     "metadata": {},
     "output_type": "execute_result"
    }
   ],
   "source": [
    "from sklearn.linear_model import LogisticRegression\n",
    "from sklearn.compose import ColumnTransformer\n",
    "from sklearn.preprocessing import OneHotEncoder, FunctionTransformer\n",
    "\n",
    "CAT_VARS = ['neighbourhood_group', 'room_type']\n",
    "NUM_VARS = list(filter(lambda s: s not in CAT_VARS, trainX.columns))\n",
    "\n",
    "identity = FunctionTransformer(lambda x: x)\n",
    "\n",
    "def create_transformation_pipeline(columns):\n",
    "    num_attribs, cat_attribs = [list(filter(lambda s: s in columns, attribs)) for attribs in [NUM_VARS, CAT_VARS]]\n",
    "    \n",
    "    return ColumnTransformer([\n",
    "        ('num', identity, num_attribs),\n",
    "        ('cat', OneHotEncoder(), cat_attribs)\n",
    "    ])\n",
    "\n",
    "def train_model(dfX, dfy, pipeline, col_drop=''):\n",
    "    dfX_transformed = pipeline.fit_transform(trainX)\n",
    "    model = LogisticRegression(solver='liblinear', C=1.0, random_state=42)\n",
    "    model.fit(dfX_transformed, dfy)\n",
    "    \n",
    "    return model\n",
    "\n",
    "def score_on_val(model, valX, valy, pipeline, col_drop=''):\n",
    "    valX_transformed = pipeline.transform(valX)\n",
    "    predictions = model.predict(valX_transformed)\n",
    "    return round((predictions == valy).mean(), 2)\n",
    "\n",
    "\n",
    "pipeline = create_transformation_pipeline(trainX.columns)\n",
    "trainX_transformed = pipeline.fit_transform(trainX)\n",
    "\n",
    "model = train_model(trainX, train_above_average, pipeline)\n",
    "original_score = score_on_val(model, valX, val_above_average, pipeline)\n",
    "original_score"
   ]
  },
  {
   "cell_type": "markdown",
   "id": "486c72e6",
   "metadata": {},
   "source": [
    "## Question 5\n",
    "\n",
    "* We have 9 features: 7 numerical features and 2 categorical.\n",
    "* Let's find the least useful one using the feature elimination technique.\n",
    "* Train a model with all these features (using the same parameters as in Q4).\n",
    "* Now exclude each feature from this set and train a model without it. Record the accuracy for each model.\n",
    "* For each feature, calculate the difference between the original accuracy and the accuracy without the feature.\n",
    "* Which of following feature has the smallest difference?\n",
    "  * `neighbourhood_group`\n",
    "  * `room_type`\n",
    "  * `number_of_reviews`\n",
    "  * `reviews_per_month`\n",
    "\n",
    "> note: the difference doesn't have to be positive"
   ]
  },
  {
   "cell_type": "code",
   "execution_count": 12,
   "id": "4ffac556",
   "metadata": {},
   "outputs": [
    {
     "data": {
      "text/plain": [
       "{'neighbourhood_group': 0.04,\n",
       " 'room_type': 0.06,\n",
       " 'latitude': 0.0,\n",
       " 'longitude': 0.0,\n",
       " 'minimum_nights': 0.0,\n",
       " 'number_of_reviews': 0.0,\n",
       " 'reviews_per_month': 0.0,\n",
       " 'calculated_host_listings_count': 0.0,\n",
       " 'availability_365': 0.01}"
      ]
     },
     "execution_count": 12,
     "metadata": {},
     "output_type": "execute_result"
    }
   ],
   "source": [
    "scores = {}\n",
    "\n",
    "\n",
    "for col in trainX.columns:\n",
    "    pipeline = create_transformation_pipeline(list(filter(lambda s: s != col, df.columns)))\n",
    "    model = train_model(trainX, train_above_average, pipeline)\n",
    "    scores[col] = score_on_val(model, valX, val_above_average, pipeline)\n",
    "\n",
    "{col: round(abs(original_score - score), 2) for (col, score) in scores.items()}"
   ]
  },
  {
   "cell_type": "markdown",
   "id": "b05aea2c",
   "metadata": {},
   "source": [
    "## Question 6\n",
    "\n",
    "* For this question, we'll see how to use a linear regression model from Scikit-Learn\n",
    "* We'll need to use the original column `'price'`. Apply the logarithmic transformation to this column.\n",
    "* Fit the Ridge regression model on the training data.\n",
    "* This model has a parameter `alpha`. Let's try the following values: `[0, 0.01, 0.1, 1, 10]`\n",
    "* Which of these alphas leads to the best RMSE on the validation set? Round your RMSE scores to 3 decimal digits.\n",
    "\n",
    "If there are multiple options, select the smallest `alpha`."
   ]
  },
  {
   "cell_type": "code",
   "execution_count": 13,
   "id": "53b62608",
   "metadata": {},
   "outputs": [
    {
     "data": {
      "text/plain": [
       "[{'alpha': 0, 'rmse': 0.497},\n",
       " {'alpha': 0.01, 'rmse': 0.497},\n",
       " {'alpha': 0.1, 'rmse': 0.497},\n",
       " {'alpha': 1, 'rmse': 0.497},\n",
       " {'alpha': 10, 'rmse': 0.498}]"
      ]
     },
     "execution_count": 13,
     "metadata": {},
     "output_type": "execute_result"
    }
   ],
   "source": [
    "from sklearn.linear_model import Ridge\n",
    "from sklearn.metrics import mean_squared_error\n",
    "\n",
    "trainy = np.log1p(trainy)\n",
    "valy = np.log1p(valy)\n",
    "testy = np.log1p(testy)\n",
    "pipeline = create_transformation_pipeline(trainX.columns).fit(trainX)\n",
    "scores = []\n",
    "\n",
    "for alpha in [0, 0.01, 0.1, 1, 10]:\n",
    "    model = Ridge(alpha=alpha, random_state=42)\n",
    "    model.fit(pipeline.transform(trainX), trainy)\n",
    "    \n",
    "    predictions = model.predict(pipeline.transform(valX))\n",
    "    rmse = np.sqrt(mean_squared_error(predictions, valy))\n",
    "    \n",
    "    scores.append({'alpha': alpha, 'rmse': round(rmse, 3)})\n",
    "    \n",
    "scores"
   ]
  }
 ],
 "metadata": {
  "kernelspec": {
   "display_name": "Python 3 (ipykernel)",
   "language": "python",
   "name": "python3"
  },
  "language_info": {
   "codemirror_mode": {
    "name": "ipython",
    "version": 3
   },
   "file_extension": ".py",
   "mimetype": "text/x-python",
   "name": "python",
   "nbconvert_exporter": "python",
   "pygments_lexer": "ipython3",
   "version": "3.9.6"
  }
 },
 "nbformat": 4,
 "nbformat_minor": 5
}

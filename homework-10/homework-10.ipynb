{
 "cells": [
  {
   "cell_type": "markdown",
   "id": "5ab7d35d",
   "metadata": {},
   "source": [
    "# Homework 10\n",
    "\n",
    "In this homework, we'll deploy the churn preduction model from session 5. We already have a docker image for this model - we'll use it for deploying the model to Kubernetes.\n",
    "\n",
    "## Bulding the image\n",
    "\n",
    "Clone the course repo if you haven't:\n",
    "\n",
    "```\n",
    "git clone https://github.com/alexeygrigorev/mlbookcamp-code.git\n",
    "```\n",
    "\n",
    "Go to the `course-zoomcamp/05-deployment/code` folder and execute the following:\n",
    "\n",
    "```\n",
    "docker build -t churn-model:v001 .\n",
    "```\n",
    "\n",
    "> Note: If you have troubles building the image, you can use the image I built and published to docker hub:\n",
    "> `agrigorev/zoomcamp-model:churn-v001`\n",
    "\n",
    "Run it to test that it's working locally:\n",
    "\n",
    "```\n",
    "docker run -it --rm -p 9696:9696 churn-model:v001\n",
    "```\n",
    "\n",
    "And in another terminal, execute `predict-test.py` file:\n",
    "\n",
    "```\n",
    "python predict-test.py\n",
    "```\n",
    "\n",
    "You should see this:\n",
    "\n",
    "```\n",
    "{'churn': False, 'churn_probability': 0.3257561103397851}\n",
    "not sending promo email to xyz-123\n",
    "```\n",
    "\n",
    "Now you can stop the container running in Docker.\n",
    "\n",
    "## Installing `kubectl` and `kind`\n",
    "\n",
    "You need to install:\n",
    "\n",
    "* kubectl - https://kubernetes.io/docs/tasks/tools/ (you might already have it - check before installing)\n",
    "* kind - https://kind.sigs.k8s.io/docs/user/quick-start/\n",
    "\n",
    "## Quesion 1: Version of kind\n",
    "\n",
    "What's the version of `kind` that you have?\n",
    "\n",
    "Use `kind --version` to find out."
   ]
  },
  {
   "cell_type": "code",
   "execution_count": 1,
   "id": "5f0a31f2",
   "metadata": {},
   "outputs": [
    {
     "name": "stdout",
     "output_type": "stream",
     "text": [
      "kind version 0.11.1\n"
     ]
    }
   ],
   "source": [
    "!kind --version"
   ]
  }
 ],
 "metadata": {
  "kernelspec": {
   "display_name": "Python 3 (ipykernel)",
   "language": "python",
   "name": "python3"
  },
  "language_info": {
   "codemirror_mode": {
    "name": "ipython",
    "version": 3
   },
   "file_extension": ".py",
   "mimetype": "text/x-python",
   "name": "python",
   "nbconvert_exporter": "python",
   "pygments_lexer": "ipython3",
   "version": "3.9.9"
  }
 },
 "nbformat": 4,
 "nbformat_minor": 5
}

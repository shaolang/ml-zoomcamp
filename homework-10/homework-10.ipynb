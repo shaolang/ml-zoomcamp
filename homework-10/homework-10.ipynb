{
 "cells": [
  {
   "cell_type": "markdown",
   "id": "3878b5ef",
   "metadata": {},
   "source": [
    "# Homework 10\n",
    "\n",
    "In this homework, we'll deploy the churn preduction model from session 5. We already have a docker image for this model - we'll use it for deploying the model to Kubernetes.\n",
    "\n",
    "## Bulding the image\n",
    "\n",
    "Clone the course repo if you haven't:\n",
    "\n",
    "```\n",
    "git clone https://github.com/alexeygrigorev/mlbookcamp-code.git\n",
    "```\n",
    "\n",
    "Go to the `course-zoomcamp/05-deployment/code` folder and execute the following:\n",
    "\n",
    "```\n",
    "docker build -t churn-model:v001 .\n",
    "```\n",
    "\n",
    "> Note: If you have troubles building the image, you can use the image I built and published to docker hub:\n",
    "> `agrigorev/zoomcamp-model:churn-v001`\n",
    "\n",
    "Run it to test that it's working locally:\n",
    "\n",
    "```\n",
    "docker run -it --rm -p 9696:9696 churn-model:v001\n",
    "```\n",
    "\n",
    "And in another terminal, execute `predict-test.py` file:\n",
    "\n",
    "```\n",
    "python predict-test.py\n",
    "```\n",
    "\n",
    "You should see this:\n",
    "\n",
    "```\n",
    "{'churn': False, 'churn_probability': 0.3257561103397851}\n",
    "not sending promo email to xyz-123\n",
    "```\n",
    "\n",
    "Now you can stop the container running in Docker.\n",
    "\n",
    "## Installing `kubectl` and `kind`\n",
    "\n",
    "You need to install:\n",
    "\n",
    "* kubectl - https://kubernetes.io/docs/tasks/tools/ (you might already have it - check before installing)\n",
    "* kind - https://kind.sigs.k8s.io/docs/user/quick-start/\n",
    "\n",
    "## Quesion 1: Version of kind\n",
    "\n",
    "What's the version of `kind` that you have?\n",
    "\n",
    "Use `kind --version` to find out."
   ]
  },
  {
   "cell_type": "code",
   "execution_count": 1,
   "id": "96484e24",
   "metadata": {},
   "outputs": [
    {
     "name": "stdout",
     "output_type": "stream",
     "text": [
      "kind version 0.11.1\n"
     ]
    }
   ],
   "source": [
    "!kind --version"
   ]
  },
  {
   "cell_type": "markdown",
   "id": "ed9f70a6",
   "metadata": {},
   "source": [
    "## Creating a cluster\n",
    "\n",
    "Now let's create a cluster with `kind`:\n",
    "\n",
    "```\n",
    "kind create cluster\n",
    "```"
   ]
  },
  {
   "cell_type": "code",
   "execution_count": 2,
   "id": "905dbe6c",
   "metadata": {},
   "outputs": [
    {
     "name": "stderr",
     "output_type": "stream",
     "text": [
      "Creating cluster \"kind\" ...\n",
      " â€¢ Ensuring node image (kindest/node:v1.21.1) ðŸ–¼  ...\n",
      " âœ“ Ensuring node image (kindest/node:v1.21.1) ðŸ–¼\n",
      " â€¢ Preparing nodes ðŸ“¦   ...\n",
      " âœ“ Preparing nodes ðŸ“¦ \n",
      " â€¢ Writing configuration ðŸ“œ  ...\n",
      " âœ“ Writing configuration ðŸ“œ\n",
      " â€¢ Starting control-plane ðŸ•¹ï¸�  ...\n",
      " âœ“ Starting control-plane ðŸ•¹ï¸�\n",
      " â€¢ Installing CNI ðŸ”Œ  ...\n",
      " âœ“ Installing CNI ðŸ”Œ\n",
      " â€¢ Installing StorageClass ðŸ’¾  ...\n",
      " âœ“ Installing StorageClass ðŸ’¾\n",
      "Set kubectl context to \"kind-kind\"\n",
      "You can now use your cluster with:\n",
      "\n",
      "kubectl cluster-info --context kind-kind\n",
      "\n",
      "Thanks for using kind! ðŸ˜Š\n"
     ]
    }
   ],
   "source": [
    "!kind create cluster"
   ]
  },
  {
   "cell_type": "markdown",
   "id": "0e516ff2",
   "metadata": {},
   "source": [
    "## Question 2: Verifying that everything works\n",
    "\n",
    "Now let's test if everything works. Use `kubectl` to get the list of running services.\n",
    "\n",
    "What's `CLUSTER-IP` of the service that is already running there?"
   ]
  },
  {
   "cell_type": "code",
   "execution_count": 3,
   "id": "c9a2c8b0",
   "metadata": {},
   "outputs": [
    {
     "name": "stdout",
     "output_type": "stream",
     "text": [
      "NAME         TYPE        CLUSTER-IP   EXTERNAL-IP   PORT(S)   AGE\n",
      "kubernetes   ClusterIP   10.96.0.1    <none>        443/TCP   17s\n"
     ]
    }
   ],
   "source": [
    "!kubectl get service"
   ]
  },
  {
   "cell_type": "markdown",
   "id": "bd787c6f",
   "metadata": {},
   "source": [
    "# Question 3: Uploading the image to kind\n",
    "\n",
    "To be able to use the docker image we previously created (`churn-model:v001`), we need to register it with kind.\n",
    "\n",
    "What's the command we need to run for that?"
   ]
  },
  {
   "cell_type": "code",
   "execution_count": 4,
   "id": "6c39e423",
   "metadata": {},
   "outputs": [
    {
     "name": "stderr",
     "output_type": "stream",
     "text": [
      "Image: \"churn-model:v001\" with ID \"sha256:711834a53511fa1c4e77d3888cf9ae5d05f6096226f645d5556880e363d9cf01\" not yet present on node \"kind-control-plane\", loading...\n"
     ]
    }
   ],
   "source": [
    "!kind load docker-image churn-model:v001"
   ]
  },
  {
   "cell_type": "markdown",
   "id": "fa4627f0",
   "metadata": {},
   "source": [
    "## Question 4: Creating a deployment\n",
    "\n",
    "Now let's create a deployment (e.g. `deployment.yaml`):\n",
    "\n",
    "```\n",
    "apiVersion: apps/v1\n",
    "kind: Deployment\n",
    "metadata:\n",
    "  name: churn\n",
    "spec:\n",
    "  selector:\n",
    "    matchLabels:\n",
    "      app: churn\n",
    "  template:\n",
    "    metadata:\n",
    "      labels:\n",
    "        app: churn\n",
    "    spec:\n",
    "      containers:\n",
    "      - name: churn\n",
    "        image: <Image>\n",
    "        resources:\n",
    "          limits:\n",
    "            memory: \"128Mi\"\n",
    "            cpu: \"500m\"\n",
    "        ports:\n",
    "        - containerPort: <Port>\n",
    "```\n",
    "\n",
    "Replace `<Image>` and `<Port>` with the correct values.\n",
    "\n",
    "What is the value for `<Port>`?\n",
    "\n",
    "**Answer**: 9696"
   ]
  },
  {
   "cell_type": "markdown",
   "id": "539c2682",
   "metadata": {},
   "source": [
    "## Question 5: Pod name\n",
    "\n",
    "Apply this deployment:\n",
    "\n",
    "```\n",
    "kubectl apply -f deployment.yaml\n",
    "```\n",
    "\n",
    "Now get a list of running pods. What's the name of the pod that just started?"
   ]
  },
  {
   "cell_type": "code",
   "execution_count": 5,
   "id": "f3656d86",
   "metadata": {},
   "outputs": [
    {
     "name": "stdout",
     "output_type": "stream",
     "text": [
      "deployment.apps/churn created\n"
     ]
    }
   ],
   "source": [
    "!kubectl apply -f deployment.yaml"
   ]
  },
  {
   "cell_type": "code",
   "execution_count": 6,
   "id": "8094ac5c",
   "metadata": {},
   "outputs": [
    {
     "name": "stderr",
     "output_type": "stream",
     "text": [
      "Image: \"churn-model:v001\" with ID \"sha256:711834a53511fa1c4e77d3888cf9ae5d05f6096226f645d5556880e363d9cf01\" found to be already present on all nodes.\n"
     ]
    },
    {
     "name": "stdout",
     "output_type": "stream",
     "text": [
      "NAME    READY   UP-TO-DATE   AVAILABLE   AGE\n",
      "churn   1/1     1            1           12s\n"
     ]
    }
   ],
   "source": [
    "!kind load docker-image churn-model:v001\n",
    "!kubectl get deployment"
   ]
  },
  {
   "cell_type": "code",
   "execution_count": 7,
   "id": "1def303f",
   "metadata": {},
   "outputs": [
    {
     "name": "stdout",
     "output_type": "stream",
     "text": [
      "NAME                     READY   STATUS    RESTARTS   AGE\n",
      "churn-8449c67c88-2nfvk   1/1     Running   0          13s\n"
     ]
    }
   ],
   "source": [
    "!kubectl get pod"
   ]
  },
  {
   "cell_type": "markdown",
   "id": "2529a691",
   "metadata": {},
   "source": [
    "## Question 6: Creating a service\n",
    "\n",
    "Let's create a service for this deployment (`service.yaml`):\n",
    "\n",
    "```\n",
    "apiVersion: v1\n",
    "kind: Service\n",
    "metadata:\n",
    "  name: <Service name>\n",
    "spec:\n",
    "  type: LoadBalancer\n",
    "  selector:\n",
    "    app: <???>\n",
    "  ports:\n",
    "  - port: 80\n",
    "    targetPort: <PORT>\n",
    "```\n",
    "\n",
    "Fill it in. What do we need to write instead of `<???>`?\n",
    "\n",
    "Apply this config file."
   ]
  },
  {
   "cell_type": "code",
   "execution_count": 8,
   "id": "2bacfd98",
   "metadata": {},
   "outputs": [
    {
     "name": "stdout",
     "output_type": "stream",
     "text": [
      "service/churn created\n"
     ]
    }
   ],
   "source": [
    "!kubectl apply -f service.yaml"
   ]
  },
  {
   "cell_type": "code",
   "execution_count": 9,
   "id": "7ca71dba",
   "metadata": {},
   "outputs": [
    {
     "name": "stdout",
     "output_type": "stream",
     "text": [
      "NAME         TYPE           CLUSTER-IP      EXTERNAL-IP   PORT(S)        AGE\n",
      "churn        LoadBalancer   10.96.114.203   <pending>     80:31962/TCP   0s\n",
      "kubernetes   ClusterIP      10.96.0.1       <none>        443/TCP        54s\n"
     ]
    }
   ],
   "source": [
    "!kubectl get service"
   ]
  }
 ],
 "metadata": {
  "kernelspec": {
   "display_name": "Python 3 (ipykernel)",
   "language": "python",
   "name": "python3"
  },
  "language_info": {
   "codemirror_mode": {
    "name": "ipython",
    "version": 3
   },
   "file_extension": ".py",
   "mimetype": "text/x-python",
   "name": "python",
   "nbconvert_exporter": "python",
   "pygments_lexer": "ipython3",
   "version": "3.9.9"
  }
 },
 "nbformat": 4,
 "nbformat_minor": 5
}

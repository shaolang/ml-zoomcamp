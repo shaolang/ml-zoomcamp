{
 "cells": [
  {
   "cell_type": "markdown",
   "id": "d8134891",
   "metadata": {},
   "source": [
    "# Homework 5\n",
    "In this homework, we'll use the churn prediction model trained on a smaller set of features.\n",
    "\n",
    "## Question 1\n",
    "\n",
    "* Install Pipenv\n",
    "* What's the version of pipenv you installed?\n",
    "* Use --version to find out"
   ]
  },
  {
   "cell_type": "code",
   "execution_count": 1,
   "id": "766cc3ea",
   "metadata": {},
   "outputs": [
    {
     "name": "stdout",
     "output_type": "stream",
     "text": [
      "pipenv, version 2021.5.29\n",
      "\n"
     ]
    }
   ],
   "source": [
    "!pipenv --version"
   ]
  },
  {
   "cell_type": "markdown",
   "id": "44a80f37",
   "metadata": {},
   "source": [
    "## Question 2\n",
    "\n",
    "* Use Pipenv to install Scikit-Learn version 1.0\n",
    "* What's the first hash for scikit-learn you get in Pipfile.lock?"
   ]
  },
  {
   "cell_type": "code",
   "execution_count": 2,
   "id": "4b750246",
   "metadata": {},
   "outputs": [
    {
     "data": {
      "text/plain": [
       "'sha256:121f78d6564000dc5e968394f45aac87981fcaaf2be40cfcd8f07b2baa1e1829'"
      ]
     },
     "execution_count": 2,
     "metadata": {},
     "output_type": "execute_result"
    }
   ],
   "source": [
    "import json\n",
    "\n",
    "with open('Pipfile.lock', 'r', encoding='utf-8') as fin:\n",
    "    content = json.loads(''.join(fin.readlines()))\n",
    "    \n",
    "content['default']['scikit-learn']['hashes'][0]"
   ]
  }
 ],
 "metadata": {
  "kernelspec": {
   "display_name": "Python 3 (ipykernel)",
   "language": "python",
   "name": "python3"
  },
  "language_info": {
   "codemirror_mode": {
    "name": "ipython",
    "version": 3
   },
   "file_extension": ".py",
   "mimetype": "text/x-python",
   "name": "python",
   "nbconvert_exporter": "python",
   "pygments_lexer": "ipython3",
   "version": "3.9.6"
  }
 },
 "nbformat": 4,
 "nbformat_minor": 5
}
